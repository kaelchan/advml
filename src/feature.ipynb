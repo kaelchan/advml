{
 "cells": [
  {
   "cell_type": "markdown",
   "metadata": {},
   "source": [
    "# 1. Import packages"
   ]
  },
  {
   "cell_type": "code",
   "execution_count": 1,
   "metadata": {},
   "outputs": [],
   "source": [
    "import time\n",
    "import datetime\n",
    "import numpy as np\n",
    "import pandas as pd\n",
    "import os\n",
    "import random\n",
    "\n",
    "from sklearn.preprocessing import LabelEncoder"
   ]
  },
  {
   "cell_type": "code",
   "execution_count": 2,
   "metadata": {},
   "outputs": [
    {
     "name": "stdout",
     "output_type": "stream",
     "text": [
      "2018-04-24 22:15:55\n"
     ]
    }
   ],
   "source": [
    "print(time.strftime(\"%Y-%m-%d %H:%M:%S\"))"
   ]
  },
  {
   "cell_type": "code",
   "execution_count": 3,
   "metadata": {},
   "outputs": [],
   "source": [
    "class Timer():\n",
    "    def __init__(self):\n",
    "        self.info = 'main'\n",
    "        self.start_time = time.time()\n",
    "    \n",
    "    def start(self, info):\n",
    "        self.info = info\n",
    "        self.start_time = time.time()\n",
    "        self.checkpoint('start', elapsed_on=False)\n",
    "    \n",
    "    def end(self):\n",
    "        self.checkpoint(' end ')\n",
    "        \n",
    "    def checkpoint(self, tag, elapsed_on=True):\n",
    "        if elapsed_on:\n",
    "            elapsed = datetime.timedelta(seconds=round(time.time() - self.start_time))\n",
    "            expanded_info = self.info + ' [time elapsed: %s]' % str(elapsed)\n",
    "        else:\n",
    "            expanded_info = self.info\n",
    "        self.output(tag, info=expanded_info)\n",
    "        \n",
    "    def output(self, tag=' '*5, info=''):\n",
    "        if type(info) != type(''):\n",
    "            info = str(info)\n",
    "        print('[%s] (%s) %s' % (Timer.get_current_time(), tag, info))\n",
    "    \n",
    "    @staticmethod\n",
    "    def get_current_time():\n",
    "        return time.strftime(\"%Y-%m-%d %H:%M:%S\")"
   ]
  },
  {
   "cell_type": "code",
   "execution_count": 4,
   "metadata": {},
   "outputs": [],
   "source": [
    "timer = Timer()\n",
    "sub_timer = Timer()"
   ]
  },
  {
   "cell_type": "markdown",
   "metadata": {},
   "source": [
    "# 2. Load Data"
   ]
  },
  {
   "cell_type": "code",
   "execution_count": 5,
   "metadata": {},
   "outputs": [
    {
     "name": "stdout",
     "output_type": "stream",
     "text": [
      "[2018-04-24 22:15:55] (start) load data\n",
      "[2018-04-24 22:16:15] ( end ) load data [time elapsed: 0:00:19]\n"
     ]
    }
   ],
   "source": [
    "timer.start('load data')\n",
    "input_dir = '../input/'\n",
    "df_train = pd.read_csv(input_dir + \"train.csv\")\n",
    "df_train.rename(columns={'msno': 'user_id'}, inplace=True)\n",
    "df_songs = pd.read_csv(input_dir + 'songs.csv')\n",
    "df_song_extra = pd.read_csv(input_dir + \"song_extra_info.csv\")\n",
    "df_members = pd.read_csv(input_dir + \"members.csv\", parse_dates=[\"registration_init_time\",\"expiration_date\"])\n",
    "df_members.rename(columns={'bd': 'age', 'msno': 'user_id'}, inplace=True)\n",
    "timer.end()"
   ]
  },
  {
   "cell_type": "code",
   "execution_count": 6,
   "metadata": {},
   "outputs": [
    {
     "data": {
      "text/plain": [
       "Index(['user_id', 'song_id', 'source_system_tab', 'source_screen_name',\n",
       "       'source_type', 'target'],\n",
       "      dtype='object')"
      ]
     },
     "execution_count": 6,
     "metadata": {},
     "output_type": "execute_result"
    }
   ],
   "source": [
    "df_train.columns"
   ]
  },
  {
   "cell_type": "markdown",
   "metadata": {},
   "source": [
    "# 3. ID Mapping: mapping user_id, song_id, interaction_id"
   ]
  },
  {
   "cell_type": "code",
   "execution_count": 7,
   "metadata": {},
   "outputs": [
    {
     "data": {
      "text/plain": [
       "7377418"
      ]
     },
     "execution_count": 7,
     "metadata": {},
     "output_type": "execute_result"
    }
   ],
   "source": [
    "len(df_train)"
   ]
  },
  {
   "cell_type": "code",
   "execution_count": 8,
   "metadata": {},
   "outputs": [
    {
     "name": "stdout",
     "output_type": "stream",
     "text": [
      "30755\n",
      "359966\n"
     ]
    }
   ],
   "source": [
    "uid_set = set(df_train['user_id'])\n",
    "iid_set = set(df_train['song_id'])\n",
    "uid_map = {uid: mapped_uid for mapped_uid, uid in enumerate(uid_set)}\n",
    "iid_map = {iid: mapped_iid for mapped_iid, iid in enumerate(iid_set)}\n",
    "num_user = len(uid_set)\n",
    "num_item = len(iid_set)\n",
    "print(num_user)\n",
    "print(num_item)"
   ]
  },
  {
   "cell_type": "code",
   "execution_count": 9,
   "metadata": {},
   "outputs": [],
   "source": [
    "df_train['user_id'] = df_train['user_id'].apply(lambda x: uid_map[x])\n",
    "df_train['song_id'] = df_train['song_id'].apply(lambda x: iid_map[x])"
   ]
  },
  {
   "cell_type": "code",
   "execution_count": 10,
   "metadata": {},
   "outputs": [],
   "source": [
    "# drop users and items that are irrelevant (thus not in the id mapping)\n",
    "df_members.drop(df_members[~df_members['user_id'].isin(uid_map)].index, inplace=True)\n",
    "df_songs.drop(df_songs[~df_songs['song_id'].isin(iid_map)].index, inplace=True)\n",
    "df_song_extra.drop(df_song_extra[~df_song_extra['song_id'].isin(iid_map)].index, inplace=True)"
   ]
  },
  {
   "cell_type": "code",
   "execution_count": 11,
   "metadata": {},
   "outputs": [
    {
     "name": "stdout",
     "output_type": "stream",
     "text": [
      "30755 359914 359807\n"
     ]
    }
   ],
   "source": [
    "print(\n",
    "    len(df_members),\n",
    "    len(df_songs),\n",
    "    len(df_song_extra)\n",
    ")"
   ]
  },
  {
   "cell_type": "code",
   "execution_count": 12,
   "metadata": {},
   "outputs": [],
   "source": [
    "df_members['user_id'] = df_members['user_id'].apply(lambda x: uid_map[x])\n",
    "df_songs['song_id'] = df_songs['song_id'].apply(lambda x: iid_map[x])\n",
    "df_song_extra['song_id'] = df_song_extra['song_id'].apply(lambda x: iid_map[x])"
   ]
  },
  {
   "cell_type": "code",
   "execution_count": 13,
   "metadata": {},
   "outputs": [
    {
     "name": "stdout",
     "output_type": "stream",
     "text": [
      "[2018-04-24 22:16:27] (start) mapping id's\n",
      "[2018-04-24 22:16:46] ( end ) mapping id's [time elapsed: 0:00:19]\n"
     ]
    }
   ],
   "source": [
    "timer.start('mapping id\\'s')\n",
    "directory = '../data/mapping/'\n",
    "if not os.path.exists(directory):\n",
    "    os.makedirs(directory)\n",
    "\n",
    "with open(directory+'user_id_map.csv', 'w') as file:\n",
    "    for uid in uid_set:\n",
    "        file.write('%s,%d\\n' % (uid, uid_map[uid]))\n",
    "\n",
    "with open(directory+'item_id_map.csv', 'w') as file:\n",
    "    for iid in iid_set:\n",
    "        file.write('%s,%d\\n' % (iid, iid_map[iid]))\n",
    "\n",
    "comb_map = dict()\n",
    "with open(directory+'interaction_id_map.csv', 'w') as file:\n",
    "    for interaction_id, (uid, iid) in enumerate(zip(df_train['user_id'], df_train['song_id'])):\n",
    "        comb_map[(uid, iid)] = interaction_id\n",
    "        file.write('%d,%d,%d\\n' % (uid, iid, interaction_id))\n",
    "\n",
    "del uid_set, iid_set\n",
    "timer.end()"
   ]
  },
  {
   "cell_type": "code",
   "execution_count": 14,
   "metadata": {},
   "outputs": [
    {
     "data": {
      "text/html": [
       "<div>\n",
       "<style scoped>\n",
       "    .dataframe tbody tr th:only-of-type {\n",
       "        vertical-align: middle;\n",
       "    }\n",
       "\n",
       "    .dataframe tbody tr th {\n",
       "        vertical-align: top;\n",
       "    }\n",
       "\n",
       "    .dataframe thead th {\n",
       "        text-align: right;\n",
       "    }\n",
       "</style>\n",
       "<table border=\"1\" class=\"dataframe\">\n",
       "  <thead>\n",
       "    <tr style=\"text-align: right;\">\n",
       "      <th></th>\n",
       "      <th>user_id</th>\n",
       "      <th>song_id</th>\n",
       "      <th>source_system_tab</th>\n",
       "      <th>source_screen_name</th>\n",
       "      <th>source_type</th>\n",
       "      <th>target</th>\n",
       "    </tr>\n",
       "  </thead>\n",
       "  <tbody>\n",
       "    <tr>\n",
       "      <th>0</th>\n",
       "      <td>13362</td>\n",
       "      <td>232041</td>\n",
       "      <td>explore</td>\n",
       "      <td>Explore</td>\n",
       "      <td>online-playlist</td>\n",
       "      <td>1</td>\n",
       "    </tr>\n",
       "    <tr>\n",
       "      <th>1</th>\n",
       "      <td>3437</td>\n",
       "      <td>267911</td>\n",
       "      <td>my library</td>\n",
       "      <td>Local playlist more</td>\n",
       "      <td>local-playlist</td>\n",
       "      <td>1</td>\n",
       "    </tr>\n",
       "    <tr>\n",
       "      <th>2</th>\n",
       "      <td>3437</td>\n",
       "      <td>96294</td>\n",
       "      <td>my library</td>\n",
       "      <td>Local playlist more</td>\n",
       "      <td>local-playlist</td>\n",
       "      <td>1</td>\n",
       "    </tr>\n",
       "    <tr>\n",
       "      <th>3</th>\n",
       "      <td>3437</td>\n",
       "      <td>38663</td>\n",
       "      <td>my library</td>\n",
       "      <td>Local playlist more</td>\n",
       "      <td>local-playlist</td>\n",
       "      <td>1</td>\n",
       "    </tr>\n",
       "    <tr>\n",
       "      <th>4</th>\n",
       "      <td>13362</td>\n",
       "      <td>216653</td>\n",
       "      <td>explore</td>\n",
       "      <td>Explore</td>\n",
       "      <td>online-playlist</td>\n",
       "      <td>1</td>\n",
       "    </tr>\n",
       "  </tbody>\n",
       "</table>\n",
       "</div>"
      ],
      "text/plain": [
       "   user_id  song_id source_system_tab   source_screen_name      source_type  \\\n",
       "0    13362   232041           explore              Explore  online-playlist   \n",
       "1     3437   267911        my library  Local playlist more   local-playlist   \n",
       "2     3437    96294        my library  Local playlist more   local-playlist   \n",
       "3     3437    38663        my library  Local playlist more   local-playlist   \n",
       "4    13362   216653           explore              Explore  online-playlist   \n",
       "\n",
       "   target  \n",
       "0       1  \n",
       "1       1  \n",
       "2       1  \n",
       "3       1  \n",
       "4       1  "
      ]
     },
     "execution_count": 14,
     "metadata": {},
     "output_type": "execute_result"
    }
   ],
   "source": [
    "df_train.head()"
   ]
  },
  {
   "cell_type": "markdown",
   "metadata": {},
   "source": [
    "# 4. Split the data into train and test sets"
   ]
  },
  {
   "cell_type": "code",
   "execution_count": 15,
   "metadata": {},
   "outputs": [
    {
     "name": "stdout",
     "output_type": "stream",
     "text": [
      "[2018-04-24 22:16:46] (start) split data\n",
      "[2018-04-24 22:16:46] (start) count interaction\n",
      "[2018-04-24 22:25:18] ( end ) count interaction [time elapsed: 0:08:32]\n"
     ]
    }
   ],
   "source": [
    "timer.start('split data')\n",
    "RANDOM_STATE = 42\n",
    "\n",
    "# count the interactions owned by user/item\n",
    "sub_timer.start('count interaction')\n",
    "user_interaction_cnt = [0 for _ in range(num_user)]\n",
    "item_interaction_cnt = [0 for _ in range(num_item)]\n",
    "for index, row in df_train.iterrows():\n",
    "    user_interaction_cnt[row.user_id] += 1\n",
    "    item_interaction_cnt[row.song_id] += 1\n",
    "sub_timer.end()\n",
    "\n",
    "df_train['user_interaction_cnt'] = df_train['user_id'].apply(lambda x: user_interaction_cnt[x])\n",
    "df_train['item_interaction_cnt'] = df_train['song_id'].apply(lambda x: item_interaction_cnt[x])"
   ]
  },
  {
   "cell_type": "code",
   "execution_count": 16,
   "metadata": {
    "scrolled": true
   },
   "outputs": [
    {
     "name": "stdout",
     "output_type": "stream",
     "text": [
      "[2018-04-24 22:25:24] (start) select warm\n",
      "[2018-04-24 22:25:25] ( end ) select warm [time elapsed: 0:00:01]\n",
      "[2018-04-24 22:25:25] (start) select test_cold_item\n",
      "584142\n",
      "0.07917973469850834\n",
      "[2018-04-24 22:25:25] ( end ) select test_cold_item [time elapsed: 0:00:00]\n",
      "[2018-04-24 22:25:25] (start) select test_cold_user\n",
      "516379\n",
      "0.06999454280616878\n",
      "[2018-04-24 22:25:26] ( end ) select test_cold_user [time elapsed: 0:00:00]\n"
     ]
    }
   ],
   "source": [
    "train_index_set = set(range(len(df_train)))\n",
    "# randomly pick interactions that can be test_warm\n",
    "sub_timer.start('select warm')\n",
    "test_warm_size = 500*1000\n",
    "t_u = 200\n",
    "t_i = 20\n",
    "\n",
    "qualified = df_train[(df_train['user_interaction_cnt'] >= t_u) & (df_train['item_interaction_cnt'] >= t_i)]\n",
    "# around 70% are qualified for 200 / 20 configuration\n",
    "# print(len(qualified))\n",
    "# print(len(qualified)/len(df_train))\n",
    "\n",
    "test_warm_index_set = set(qualified.sample(n=test_warm_size, random_state=RANDOM_STATE).index)\n",
    "train_index_set -= test_warm_index_set\n",
    "sub_timer.end()\n",
    "\n",
    "\n",
    "# randomly pick interactions that can be test_cold_item\n",
    "sub_timer.start('select test_cold_item')\n",
    "t_u = 200\n",
    "t_i = 10\n",
    "qualified = df_train[(df_train['user_interaction_cnt'] >= t_u) & (df_train['item_interaction_cnt'] < t_i)]\n",
    "print(len(qualified))\n",
    "print(len(qualified)/len(df_train))\n",
    "\n",
    "test_cold_item_index_set = set(qualified.index)\n",
    "test_cold_item_index_set = test_cold_item_index_set.intersection(train_index_set)\n",
    "train_index_set -= test_cold_item_index_set\n",
    "sub_timer.end()\n",
    "\n",
    "\n",
    "# randomly pick interactions that can be test_cold_user\n",
    "sub_timer.start('select test_cold_user')\n",
    "t_u = 120\n",
    "t_i = 10\n",
    "qualified = df_train[(df_train['user_interaction_cnt'] < t_u) & (df_train['item_interaction_cnt'] >= t_i)]\n",
    "print(len(qualified))\n",
    "print(len(qualified)/len(df_train))\n",
    "\n",
    "test_cold_user_index_set = set(qualified.index)\n",
    "test_cold_user_index_set = test_cold_user_index_set.intersection(train_index_set)\n",
    "train_index_set -= test_cold_user_index_set\n",
    "sub_timer.end()"
   ]
  },
  {
   "cell_type": "code",
   "execution_count": 17,
   "metadata": {},
   "outputs": [
    {
     "name": "stdout",
     "output_type": "stream",
     "text": [
      "[2018-04-24 22:25:26] (start) save to files\n",
      "[2018-04-24 22:25:50] ( end ) save to files [time elapsed: 0:00:24]\n",
      "[2018-04-24 22:25:50] ( end ) split data [time elapsed: 0:09:04]\n"
     ]
    }
   ],
   "source": [
    "# save interactions to files\n",
    "sub_timer.start('save to files')\n",
    "def save_split(df, index_set, filename):\n",
    "    with open(filename, 'w') as file:\n",
    "#         df_train.loc[index_set][['user_id', 'song_id', 'target']].to_csv(filename, header=False, index=False)\n",
    "        df_train.loc[index_set][['user_id', 'song_id', 'target']].to_csv(filename)\n",
    "        \n",
    "directory = '../data/split/'\n",
    "if not os.path.exists(directory):\n",
    "    os.makedirs(directory)\n",
    "    \n",
    "save_split(df=df_train, index_set=train_index_set, filename=directory + 'train.csv')\n",
    "save_split(df=df_train, index_set=test_warm_index_set, filename=directory + 'test_warm.csv')\n",
    "save_split(df=df_train, index_set=test_cold_item_index_set, filename=directory + 'test_cold_item.csv')\n",
    "save_split(df=df_train, index_set=test_cold_user_index_set, filename=directory + 'test_cold_user.csv')\n",
    "sub_timer.end()\n",
    "timer.end()"
   ]
  },
  {
   "cell_type": "code",
   "execution_count": 18,
   "metadata": {},
   "outputs": [],
   "source": [
    "# assert that user_id and item_id in test_warm appear in training data\n",
    "df_warm = df_train.iloc[list(test_warm_index_set)]\n",
    "df_for_train = df_train.iloc[list(train_index_set)]\n",
    "assert not (~df_warm.user_id.isin(df_for_train.user_id)).any() # should be False\n",
    "assert not (~df_warm.song_id.isin(df_for_train.song_id)).any() # should be False"
   ]
  },
  {
   "cell_type": "markdown",
   "metadata": {},
   "source": [
    "# 5 Preprocess and save the contexts"
   ]
  },
  {
   "cell_type": "code",
   "execution_count": 19,
   "metadata": {},
   "outputs": [
    {
     "name": "stdout",
     "output_type": "stream",
     "text": [
      "[2018-04-24 22:25:51] (start) save context\n"
     ]
    }
   ],
   "source": [
    "timer.start('save context')"
   ]
  },
  {
   "cell_type": "markdown",
   "metadata": {},
   "source": [
    "## 5.0 Append contexts for missing songs\n",
    "some songs informations are missing"
   ]
  },
  {
   "cell_type": "code",
   "execution_count": 20,
   "metadata": {},
   "outputs": [
    {
     "name": "stdout",
     "output_type": "stream",
     "text": [
      "0 114 1455\n"
     ]
    }
   ],
   "source": [
    "print((~df_train.user_id.isin(df_members.user_id)).sum(), \n",
    "      (~df_train.song_id.isin(df_songs.song_id)).sum(),\n",
    "      (~df_train.song_id.isin(df_song_extra.song_id)).sum())"
   ]
  },
  {
   "cell_type": "code",
   "execution_count": 21,
   "metadata": {
    "scrolled": true
   },
   "outputs": [
    {
     "data": {
      "text/plain": [
       "{3834,\n",
       " 9847,\n",
       " 30822,\n",
       " 31963,\n",
       " 46056,\n",
       " 61040,\n",
       " 64607,\n",
       " 65306,\n",
       " 65450,\n",
       " 82125,\n",
       " 83598,\n",
       " 97927,\n",
       " 104234,\n",
       " 110812,\n",
       " 139832,\n",
       " 155371,\n",
       " 158292,\n",
       " 159690,\n",
       " 161608,\n",
       " 163691,\n",
       " 164195,\n",
       " 169329,\n",
       " 171311,\n",
       " 171449,\n",
       " 171556,\n",
       " 175246,\n",
       " 179634,\n",
       " 183063,\n",
       " 184084,\n",
       " 191297,\n",
       " 194511,\n",
       " 200985,\n",
       " 201145,\n",
       " 207654,\n",
       " 212701,\n",
       " 213207,\n",
       " 231930,\n",
       " 233308,\n",
       " 252531,\n",
       " 258572,\n",
       " 271475,\n",
       " 279864,\n",
       " 286016,\n",
       " 302487,\n",
       " 306555,\n",
       " 326332,\n",
       " 337586,\n",
       " 345913,\n",
       " 353157,\n",
       " 353320,\n",
       " 353988,\n",
       " 356924}"
      ]
     },
     "execution_count": 21,
     "metadata": {},
     "output_type": "execute_result"
    }
   ],
   "source": [
    "set(iid_map.values()) - set(df_songs.song_id)"
   ]
  },
  {
   "cell_type": "code",
   "execution_count": 22,
   "metadata": {},
   "outputs": [],
   "source": [
    "# just add the entries with ids in it\n",
    "def fix_songs(df):\n",
    "    missed_iid = list(set(iid_map.values()) - set(df.song_id))\n",
    "    df_new = pd.DataFrame(missed_iid, columns=['song_id'])\n",
    "    return df_new\n",
    "\n",
    "df_songs = df_songs.append(fix_songs(df_songs), ignore_index=True)\n",
    "df_song_extra = df_song_extra.append(fix_songs(df_song_extra), ignore_index=True)"
   ]
  },
  {
   "cell_type": "code",
   "execution_count": 23,
   "metadata": {},
   "outputs": [
    {
     "name": "stdout",
     "output_type": "stream",
     "text": [
      "[2018-04-24 22:25:56] (5.0) save context [time elapsed: 0:00:05]\n"
     ]
    }
   ],
   "source": [
    "timer.checkpoint('5.0')"
   ]
  },
  {
   "cell_type": "markdown",
   "metadata": {},
   "source": [
    "## 5.1 Simple member related and song related\n",
    "\n",
    "also join df_songs and df_song_extra"
   ]
  },
  {
   "cell_type": "code",
   "execution_count": 24,
   "metadata": {},
   "outputs": [
    {
     "name": "stdout",
     "output_type": "stream",
     "text": [
      "[2018-04-24 22:25:57] (start) member related\n",
      "[2018-04-24 22:25:57] ( end ) member related [time elapsed: 0:00:00]\n"
     ]
    }
   ],
   "source": [
    "# member related\n",
    "sub_timer.start('member related')\n",
    "df_members.loc[df_members['age'] < 5, 'age'] = 0\n",
    "df_members.loc[df_members['age'] >= 80, 'age'] = 0\n",
    "df_members['weird_age'] = 0\n",
    "df_members.loc[df_members['age'] == 0, 'weird_age'] = 1\n",
    "df_members['validate_days'] = (df_members['expiration_date'] - df_members['registration_init_time']).dt.days.astype(int)\n",
    "\n",
    "df_members['registration_year'] = df_members['registration_init_time'].dt.year.astype(int)\n",
    "df_members['registration_month'] = df_members['registration_init_time'].dt.month.astype(int)\n",
    "df_members['registration_day'] = df_members['registration_init_time'].dt.day.astype(int)\n",
    "\n",
    "df_members['expiration_year'] = df_members['expiration_date'].dt.year.astype(int)\n",
    "df_members['expiration_month'] = df_members['expiration_date'].dt.month.astype(int)\n",
    "df_members['expiration_day'] = df_members['expiration_date'].dt.day.astype(int)\n",
    "\n",
    "df_members.drop(['registration_init_time', 'expiration_date'], axis=1, inplace=True)\n",
    "\n",
    "sub_timer.end()"
   ]
  },
  {
   "cell_type": "code",
   "execution_count": 25,
   "metadata": {},
   "outputs": [
    {
     "name": "stdout",
     "output_type": "stream",
     "text": [
      "[2018-04-24 22:25:57] (start) song related\n",
      "[2018-04-24 22:25:58] ( end ) song related [time elapsed: 0:00:01]\n"
     ]
    }
   ],
   "source": [
    "# song related\n",
    "sub_timer.start('song related')\n",
    "\n",
    "def isrc_to_year(isrc):\n",
    "    if type(isrc) == str:\n",
    "        if int(isrc[5:7]) > 17:\n",
    "            return 1900 + int(isrc[5:7])\n",
    "        else:\n",
    "            return 2000 + int(isrc[5:7])\n",
    "    else:\n",
    "        return np.nan\n",
    "\n",
    "df_song_extra['song_year'] = df_song_extra['isrc'].apply(isrc_to_year)\n",
    "df_song_extra.drop(['isrc', 'name'], axis = 1, inplace = True)\n",
    "\n",
    "# 1000 <=> 1s\n",
    "df_songs['song_length'] /= 1000.0\n",
    "df_songs.loc[df_songs['song_length'] > 1800, 'song_length'] = 1800\n",
    "\n",
    "df_songs = df_songs.merge(df_song_extra, how='left', on='song_id')\n",
    "sub_timer.end()"
   ]
  },
  {
   "cell_type": "markdown",
   "metadata": {},
   "source": [
    "## 5.2 Fill in missing value"
   ]
  },
  {
   "cell_type": "code",
   "execution_count": 26,
   "metadata": {},
   "outputs": [
    {
     "name": "stdout",
     "output_type": "stream",
     "text": [
      "[2018-04-24 22:25:58] (start) find missing columns\n",
      "df_train\n",
      "object     source_system_tab 24849\n",
      "object     source_screen_name 414804\n",
      "object     source_type 21539\n",
      "\n",
      "df_members\n",
      "object     gender 17092\n",
      "\n",
      "df_songs\n",
      "object     artist_name 52\n",
      "object     composer 155554\n",
      "object     genre_ids 7285\n",
      "float64    language 53\n",
      "object     lyricist 268760\n",
      "float64    song_length 52\n",
      "float64    song_year 48338\n",
      "[2018-04-24 22:25:59] ( end ) find missing columns [time elapsed: 0:00:01]\n"
     ]
    }
   ],
   "source": [
    "sub_timer.start('find missing columns')\n",
    "print('df_train')\n",
    "for col in df_train.columns:\n",
    "    num_null = df_train[col].isnull().sum()\n",
    "    if num_null > 0:\n",
    "        print('{:10} {} {}'.format(str(df_train[col].dtype), col, num_null))\n",
    "print()\n",
    "\n",
    "print('df_members')\n",
    "for col in df_members.columns:\n",
    "    num_null = df_members[col].isnull().sum()\n",
    "    if num_null > 0:\n",
    "        print('{:10} {} {}'.format(str(df_members[col].dtype), col, num_null))\n",
    "print()\n",
    "\n",
    "print('df_songs')\n",
    "for col in df_songs.columns:\n",
    "    num_null = df_songs[col].isnull().sum()\n",
    "    if num_null > 0:\n",
    "        print('{:10} {} {}'.format(str(df_songs[col].dtype), col, num_null))\n",
    "\n",
    "sub_timer.end()"
   ]
  },
  {
   "cell_type": "code",
   "execution_count": 27,
   "metadata": {},
   "outputs": [
    {
     "name": "stdout",
     "output_type": "stream",
     "text": [
      "[2018-04-24 22:25:59] (start) fill in null value\n",
      "language mode 0    52.0\n",
      "dtype: float64\n",
      "song_length median 247.05283130970574\n",
      "song year median 2011.0\n",
      "[2018-04-24 22:26:00] ( end ) fill in null value [time elapsed: 0:00:01]\n"
     ]
    }
   ],
   "source": [
    "sub_timer.start('fill in null value')\n",
    "UNKNOWN = 'Unknown'\n",
    "df_train['source_system_tab'].fillna(value=UNKNOWN, inplace=True)\n",
    "df_train['source_screen_name'].fillna(value=UNKNOWN, inplace=True)\n",
    "df_train['source_type'].fillna(value=UNKNOWN, inplace=True)\n",
    "\n",
    "df_members['gender'].fillna(value=UNKNOWN, inplace=True)\n",
    "\n",
    "for col in ['artist_name', 'composer', 'genre_ids', 'lyricist']:\n",
    "    df_songs[col].fillna(value=UNKNOWN, inplace=True)\n",
    "    \n",
    "print('language mode', df_songs['language'].mode())\n",
    "df_songs['language'].fillna(value=df_songs['language'].mode()[0], inplace=True) # 52.0 is the mode\n",
    "\n",
    "print('song_length median', df_songs['song_length'].mean())\n",
    "df_songs['song_length'].fillna(value=df_songs['song_length'].mean(), inplace=True)\n",
    "\n",
    "print('song year median', df_songs['song_year'].median())\n",
    "df_songs['song_year'].fillna(value=df_songs['song_year'].median(), inplace=True)\n",
    "\n",
    "sub_timer.end()"
   ]
  },
  {
   "cell_type": "markdown",
   "metadata": {},
   "source": [
    "## 5.3 Count and binary features"
   ]
  },
  {
   "cell_type": "code",
   "execution_count": 28,
   "metadata": {},
   "outputs": [
    {
     "name": "stdout",
     "output_type": "stream",
     "text": [
      "[2018-04-24 22:26:00] (start) count and binary features engineering\n",
      "247.05283130970534\n",
      "True\n",
      "[2018-04-24 22:26:03] ( end ) count and binary features engineering [time elapsed: 0:00:03]\n"
     ]
    }
   ],
   "source": [
    "sub_timer.start('count and binary features engineering')\n",
    "def artist_count(x):\n",
    "    if x == UNKNOWN:\n",
    "        return 0\n",
    "    else:\n",
    "        return x.count('and') + x.count(',') + x.count('feat') + x.count('&') + 1\n",
    "df_songs['artist_count'] = df_songs['artist_name'].apply(artist_count).astype(np.int8)\n",
    "\n",
    "def _count(x):\n",
    "    if x == UNKNOWN:\n",
    "        return 0\n",
    "    else:\n",
    "        return sum(map(x.count, ['|', '/', '\\\\', ';', '、', ','])) + 1\n",
    "df_songs['genre_count'] = df_songs['genre_ids'].apply(_count).astype(int)\n",
    "df_songs['lyricist_count'] = df_songs['lyricist'].apply(_count).astype(int)\n",
    "df_songs['composer_count'] = df_songs['composer'].apply(_count).astype(int)\n",
    "\n",
    "def is_featured(x):\n",
    "    if 'feat' in str(x) :\n",
    "        return 1\n",
    "    return 0\n",
    "df_songs['is_featured'] = df_songs['artist_name'].apply(is_featured).astype(np.int8)\n",
    "\n",
    "# if artist is same as composer\n",
    "df_songs['artist_composer'] = (df_songs['artist_name'] == df_songs['composer']).astype(np.int8)\n",
    "\n",
    "# if artist, lyricist and composer are all three same\n",
    "df_songs['artist_composer_lyricist'] = ((df_songs['artist_name'] == df_songs['composer']) \n",
    "                                        & (df_songs['artist_name'] == df_songs['lyricist']) \n",
    "                                        & (df_songs['composer'] == df_songs['lyricist'])).astype(np.int8)\n",
    "\n",
    "# is song language 17 or 45. \n",
    "def song_lang_boolean(x):\n",
    "    if '17.0' in str(x) or '45.0' in str(x):\n",
    "        return 1\n",
    "    return 0\n",
    "df_songs['song_lang_boolean'] = df_songs['language'].apply(song_lang_boolean).astype(np.int8)\n",
    "\n",
    "# smaller song\n",
    "_mean_song_length = df_songs['song_length'].mean()\n",
    "print(_mean_song_length)\n",
    "print(0 < _mean_song_length)\n",
    "def smaller_song(x):\n",
    "    if x < _mean_song_length:\n",
    "        return 1\n",
    "    return 0\n",
    "df_songs['smaller_song'] = df_songs['song_length'].apply(smaller_song).astype(np.int8)\n",
    "sub_timer.end()"
   ]
  },
  {
   "cell_type": "markdown",
   "metadata": {},
   "source": [
    "# 5.4 standarize numerical"
   ]
  },
  {
   "cell_type": "code",
   "execution_count": 29,
   "metadata": {
    "scrolled": true
   },
   "outputs": [
    {
     "name": "stdout",
     "output_type": "stream",
     "text": [
      "user_id 30755\n",
      "song_id 359966\n",
      "source_system_tab 9\n",
      "source_screen_name 20\n",
      "source_type 13\n",
      "target 2\n",
      "user_interaction_cnt 1564\n",
      "item_interaction_cnt 1798\n",
      "\n",
      "user_id 30755\n",
      "city 21\n",
      "age 68\n",
      "gender 3\n",
      "registered_via 5\n",
      "weird_age 2\n",
      "validate_days 4321\n",
      "registration_year 14\n",
      "registration_month 12\n",
      "registration_day 31\n",
      "expiration_year 18\n",
      "expiration_month 12\n",
      "expiration_day 31\n",
      "\n",
      "artist_name 40583\n",
      "composer 76064\n",
      "genre_ids 573\n",
      "language 10\n",
      "lyricist 33888\n",
      "song_id 359966\n",
      "song_length 59933\n",
      "song_year 100\n",
      "artist_count 11\n",
      "genre_count 9\n",
      "lyricist_count 24\n",
      "composer_count 27\n",
      "is_featured 2\n",
      "artist_composer 2\n",
      "artist_composer_lyricist 2\n",
      "song_lang_boolean 2\n",
      "smaller_song 2\n",
      "\n"
     ]
    }
   ],
   "source": [
    "for df in [df_train, df_members, df_songs]:\n",
    "    for col in df.columns:\n",
    "        print(col, len(df[col].unique()))\n",
    "    print()"
   ]
  },
  {
   "cell_type": "code",
   "execution_count": 30,
   "metadata": {},
   "outputs": [
    {
     "name": "stdout",
     "output_type": "stream",
     "text": [
      "[2018-04-24 22:26:05] (start) standarize\n",
      "standarize df_songs\n",
      "         song_length 247.05283130970534 115.79556125560042\n",
      "         genre_count 1.0664618325064035 0.39541568542263716\n",
      "      lyricist_count 0.3968930398982126 0.9317668455635831\n",
      "      composer_count 1.0127567603607008 1.667934525381824\n",
      "        artist_count 1.05236605679 0.257709773866\n",
      "         is_featured 0.00357811571093 0.0597102403185\n",
      "     artist_composer 0.052210486546 0.222451234298\n",
      "artist_composer_lyricist 0.0170043837474 0.129287411146\n",
      "   song_lang_boolean 0.0799797758677 0.271261886965\n",
      "        smaller_song 0.593039342605 0.491267422824\n",
      "standarize df_members\n",
      "                 age 12.801528206795643 15.554090126424791\n",
      "           weird_age 0.5573077548366119 0.49670496397332436\n",
      "       validate_days 1175.467338644123 1160.4635983491546\n",
      "[2018-04-24 22:26:05] ( end ) standarize [time elapsed: 0:00:00]\n"
     ]
    }
   ],
   "source": [
    "sub_timer.start('standarize')\n",
    "def standarize_numerical(df, cols):\n",
    "    for col in cols:\n",
    "        mean = np.mean(df[col])\n",
    "        stdd = np.std(df[col])\n",
    "        df[col] = (df[col] - mean) / stdd\n",
    "        print('%20s' %col, mean, stdd)\n",
    "\n",
    "print('standarize df_songs')\n",
    "standarize_numerical(df_songs, ['song_length', 'genre_count', 'lyricist_count', 'composer_count', 'artist_count', \n",
    "    'is_featured', 'artist_composer', 'artist_composer_lyricist', 'song_lang_boolean', 'smaller_song'])\n",
    "print('standarize df_members')\n",
    "standarize_numerical(df_members, ['age', 'weird_age', 'validate_days'])\n",
    "sub_timer.end()"
   ]
  },
  {
   "cell_type": "code",
   "execution_count": 31,
   "metadata": {},
   "outputs": [
    {
     "name": "stdout",
     "output_type": "stream",
     "text": [
      "\n"
     ]
    }
   ],
   "source": [
    "# some other checks: should just print an empty line\n",
    "def check_null(df):\n",
    "    for col in df.columns:\n",
    "        null_num = df[col].isnull().sum()\n",
    "        if null_num > 0:\n",
    "            print(col, null_num)\n",
    "    print()\n",
    "\n",
    "df = df_train.merge(df_songs, how=\"left\", on=\"song_id\")\n",
    "df = df.merge(df_members, how=\"left\", on=\"user_id\")\n",
    "check_null(df)"
   ]
  },
  {
   "cell_type": "markdown",
   "metadata": {},
   "source": [
    "## 5.5 encode all string features to id"
   ]
  },
  {
   "cell_type": "code",
   "execution_count": 32,
   "metadata": {},
   "outputs": [],
   "source": [
    "def encode_categorical(df, cols):\n",
    "    for col in cols:\n",
    "        df[col] = df[col].astype(str)\n",
    "        encoder = LabelEncoder()\n",
    "        encoder.fit(df[col])\n",
    "        df[col] = encoder.transform(df[col])\n",
    "        print(col, len(df[col].unique()), df[col].min(), df[col].max())\n",
    "    print('-' * 20)"
   ]
  },
  {
   "cell_type": "code",
   "execution_count": 33,
   "metadata": {
    "scrolled": true
   },
   "outputs": [
    {
     "data": {
      "text/html": [
       "<div>\n",
       "<style scoped>\n",
       "    .dataframe tbody tr th:only-of-type {\n",
       "        vertical-align: middle;\n",
       "    }\n",
       "\n",
       "    .dataframe tbody tr th {\n",
       "        vertical-align: top;\n",
       "    }\n",
       "\n",
       "    .dataframe thead th {\n",
       "        text-align: right;\n",
       "    }\n",
       "</style>\n",
       "<table border=\"1\" class=\"dataframe\">\n",
       "  <thead>\n",
       "    <tr style=\"text-align: right;\">\n",
       "      <th></th>\n",
       "      <th>user_id</th>\n",
       "      <th>song_id</th>\n",
       "      <th>source_system_tab</th>\n",
       "      <th>source_screen_name</th>\n",
       "      <th>source_type</th>\n",
       "      <th>target</th>\n",
       "      <th>user_interaction_cnt</th>\n",
       "      <th>item_interaction_cnt</th>\n",
       "    </tr>\n",
       "  </thead>\n",
       "  <tbody>\n",
       "    <tr>\n",
       "      <th>0</th>\n",
       "      <td>13362</td>\n",
       "      <td>232041</td>\n",
       "      <td>explore</td>\n",
       "      <td>Explore</td>\n",
       "      <td>online-playlist</td>\n",
       "      <td>1</td>\n",
       "      <td>5511</td>\n",
       "      <td>215</td>\n",
       "    </tr>\n",
       "    <tr>\n",
       "      <th>1</th>\n",
       "      <td>3437</td>\n",
       "      <td>267911</td>\n",
       "      <td>my library</td>\n",
       "      <td>Local playlist more</td>\n",
       "      <td>local-playlist</td>\n",
       "      <td>1</td>\n",
       "      <td>622</td>\n",
       "      <td>1</td>\n",
       "    </tr>\n",
       "    <tr>\n",
       "      <th>2</th>\n",
       "      <td>3437</td>\n",
       "      <td>96294</td>\n",
       "      <td>my library</td>\n",
       "      <td>Local playlist more</td>\n",
       "      <td>local-playlist</td>\n",
       "      <td>1</td>\n",
       "      <td>622</td>\n",
       "      <td>4</td>\n",
       "    </tr>\n",
       "    <tr>\n",
       "      <th>3</th>\n",
       "      <td>3437</td>\n",
       "      <td>38663</td>\n",
       "      <td>my library</td>\n",
       "      <td>Local playlist more</td>\n",
       "      <td>local-playlist</td>\n",
       "      <td>1</td>\n",
       "      <td>622</td>\n",
       "      <td>1</td>\n",
       "    </tr>\n",
       "    <tr>\n",
       "      <th>4</th>\n",
       "      <td>13362</td>\n",
       "      <td>216653</td>\n",
       "      <td>explore</td>\n",
       "      <td>Explore</td>\n",
       "      <td>online-playlist</td>\n",
       "      <td>1</td>\n",
       "      <td>5511</td>\n",
       "      <td>412</td>\n",
       "    </tr>\n",
       "  </tbody>\n",
       "</table>\n",
       "</div>"
      ],
      "text/plain": [
       "   user_id  song_id source_system_tab   source_screen_name      source_type  \\\n",
       "0    13362   232041           explore              Explore  online-playlist   \n",
       "1     3437   267911        my library  Local playlist more   local-playlist   \n",
       "2     3437    96294        my library  Local playlist more   local-playlist   \n",
       "3     3437    38663        my library  Local playlist more   local-playlist   \n",
       "4    13362   216653           explore              Explore  online-playlist   \n",
       "\n",
       "   target  user_interaction_cnt  item_interaction_cnt  \n",
       "0       1                  5511                   215  \n",
       "1       1                   622                     1  \n",
       "2       1                   622                     4  \n",
       "3       1                   622                     1  \n",
       "4       1                  5511                   412  "
      ]
     },
     "execution_count": 33,
     "metadata": {},
     "output_type": "execute_result"
    }
   ],
   "source": [
    "df_train.head()"
   ]
  },
  {
   "cell_type": "code",
   "execution_count": 34,
   "metadata": {},
   "outputs": [
    {
     "data": {
      "text/html": [
       "<div>\n",
       "<style scoped>\n",
       "    .dataframe tbody tr th:only-of-type {\n",
       "        vertical-align: middle;\n",
       "    }\n",
       "\n",
       "    .dataframe tbody tr th {\n",
       "        vertical-align: top;\n",
       "    }\n",
       "\n",
       "    .dataframe thead th {\n",
       "        text-align: right;\n",
       "    }\n",
       "</style>\n",
       "<table border=\"1\" class=\"dataframe\">\n",
       "  <thead>\n",
       "    <tr style=\"text-align: right;\">\n",
       "      <th></th>\n",
       "      <th>artist_name</th>\n",
       "      <th>composer</th>\n",
       "      <th>genre_ids</th>\n",
       "      <th>language</th>\n",
       "      <th>lyricist</th>\n",
       "      <th>song_id</th>\n",
       "      <th>song_length</th>\n",
       "      <th>song_year</th>\n",
       "      <th>artist_count</th>\n",
       "      <th>genre_count</th>\n",
       "      <th>lyricist_count</th>\n",
       "      <th>composer_count</th>\n",
       "      <th>is_featured</th>\n",
       "      <th>artist_composer</th>\n",
       "      <th>artist_composer_lyricist</th>\n",
       "      <th>song_lang_boolean</th>\n",
       "      <th>smaller_song</th>\n",
       "    </tr>\n",
       "  </thead>\n",
       "  <tbody>\n",
       "    <tr>\n",
       "      <th>0</th>\n",
       "      <td>張信哲 (Jeff Chang)</td>\n",
       "      <td>董貞</td>\n",
       "      <td>465</td>\n",
       "      <td>3.0</td>\n",
       "      <td>何啟弘</td>\n",
       "      <td>146621</td>\n",
       "      <td>0.005071</td>\n",
       "      <td>2014.0</td>\n",
       "      <td>-0.203198</td>\n",
       "      <td>-0.168081</td>\n",
       "      <td>0.647272</td>\n",
       "      <td>-0.007648</td>\n",
       "      <td>-0.059925</td>\n",
       "      <td>-0.234705</td>\n",
       "      <td>-0.131524</td>\n",
       "      <td>-0.294843</td>\n",
       "      <td>-1.207162</td>\n",
       "    </tr>\n",
       "    <tr>\n",
       "      <th>1</th>\n",
       "      <td>BLACKPINK</td>\n",
       "      <td>TEDDY|  FUTURE BOUNCE|  Bekuh BOOM</td>\n",
       "      <td>444</td>\n",
       "      <td>31.0</td>\n",
       "      <td>TEDDY</td>\n",
       "      <td>329770</td>\n",
       "      <td>-0.429419</td>\n",
       "      <td>2011.0</td>\n",
       "      <td>-0.203198</td>\n",
       "      <td>-0.168081</td>\n",
       "      <td>0.647272</td>\n",
       "      <td>1.191440</td>\n",
       "      <td>-0.059925</td>\n",
       "      <td>-0.234705</td>\n",
       "      <td>-0.131524</td>\n",
       "      <td>-0.294843</td>\n",
       "      <td>0.828389</td>\n",
       "    </tr>\n",
       "    <tr>\n",
       "      <th>2</th>\n",
       "      <td>SUPER JUNIOR</td>\n",
       "      <td>Unknown</td>\n",
       "      <td>465</td>\n",
       "      <td>31.0</td>\n",
       "      <td>Unknown</td>\n",
       "      <td>195553</td>\n",
       "      <td>-0.131886</td>\n",
       "      <td>2011.0</td>\n",
       "      <td>-0.203198</td>\n",
       "      <td>-0.168081</td>\n",
       "      <td>-0.425957</td>\n",
       "      <td>-0.607192</td>\n",
       "      <td>-0.059925</td>\n",
       "      <td>-0.234705</td>\n",
       "      <td>-0.131524</td>\n",
       "      <td>-0.294843</td>\n",
       "      <td>0.828389</td>\n",
       "    </tr>\n",
       "    <tr>\n",
       "      <th>3</th>\n",
       "      <td>S.H.E</td>\n",
       "      <td>湯小康</td>\n",
       "      <td>465</td>\n",
       "      <td>3.0</td>\n",
       "      <td>徐世珍</td>\n",
       "      <td>294749</td>\n",
       "      <td>0.228862</td>\n",
       "      <td>2002.0</td>\n",
       "      <td>-0.203198</td>\n",
       "      <td>-0.168081</td>\n",
       "      <td>0.647272</td>\n",
       "      <td>-0.007648</td>\n",
       "      <td>-0.059925</td>\n",
       "      <td>-0.234705</td>\n",
       "      <td>-0.131524</td>\n",
       "      <td>-0.294843</td>\n",
       "      <td>-1.207162</td>\n",
       "    </tr>\n",
       "    <tr>\n",
       "      <th>4</th>\n",
       "      <td>貴族精選</td>\n",
       "      <td>Traditional</td>\n",
       "      <td>726</td>\n",
       "      <td>52.0</td>\n",
       "      <td>Traditional</td>\n",
       "      <td>254554</td>\n",
       "      <td>-0.921657</td>\n",
       "      <td>2011.0</td>\n",
       "      <td>-0.203198</td>\n",
       "      <td>-0.168081</td>\n",
       "      <td>0.647272</td>\n",
       "      <td>-0.007648</td>\n",
       "      <td>-0.059925</td>\n",
       "      <td>-0.234705</td>\n",
       "      <td>-0.131524</td>\n",
       "      <td>-0.294843</td>\n",
       "      <td>0.828389</td>\n",
       "    </tr>\n",
       "  </tbody>\n",
       "</table>\n",
       "</div>"
      ],
      "text/plain": [
       "        artist_name                            composer genre_ids  language  \\\n",
       "0  張信哲 (Jeff Chang)                                  董貞       465       3.0   \n",
       "1         BLACKPINK  TEDDY|  FUTURE BOUNCE|  Bekuh BOOM       444      31.0   \n",
       "2      SUPER JUNIOR                             Unknown       465      31.0   \n",
       "3             S.H.E                                 湯小康       465       3.0   \n",
       "4              貴族精選                         Traditional       726      52.0   \n",
       "\n",
       "      lyricist  song_id  song_length  song_year  artist_count  genre_count  \\\n",
       "0          何啟弘   146621     0.005071     2014.0     -0.203198    -0.168081   \n",
       "1        TEDDY   329770    -0.429419     2011.0     -0.203198    -0.168081   \n",
       "2      Unknown   195553    -0.131886     2011.0     -0.203198    -0.168081   \n",
       "3          徐世珍   294749     0.228862     2002.0     -0.203198    -0.168081   \n",
       "4  Traditional   254554    -0.921657     2011.0     -0.203198    -0.168081   \n",
       "\n",
       "   lyricist_count  composer_count  is_featured  artist_composer  \\\n",
       "0        0.647272       -0.007648    -0.059925        -0.234705   \n",
       "1        0.647272        1.191440    -0.059925        -0.234705   \n",
       "2       -0.425957       -0.607192    -0.059925        -0.234705   \n",
       "3        0.647272       -0.007648    -0.059925        -0.234705   \n",
       "4        0.647272       -0.007648    -0.059925        -0.234705   \n",
       "\n",
       "   artist_composer_lyricist  song_lang_boolean  smaller_song  \n",
       "0                 -0.131524          -0.294843     -1.207162  \n",
       "1                 -0.131524          -0.294843      0.828389  \n",
       "2                 -0.131524          -0.294843      0.828389  \n",
       "3                 -0.131524          -0.294843     -1.207162  \n",
       "4                 -0.131524          -0.294843      0.828389  "
      ]
     },
     "execution_count": 34,
     "metadata": {},
     "output_type": "execute_result"
    }
   ],
   "source": [
    "df_songs.head()"
   ]
  },
  {
   "cell_type": "code",
   "execution_count": 35,
   "metadata": {},
   "outputs": [
    {
     "data": {
      "text/html": [
       "<div>\n",
       "<style scoped>\n",
       "    .dataframe tbody tr th:only-of-type {\n",
       "        vertical-align: middle;\n",
       "    }\n",
       "\n",
       "    .dataframe tbody tr th {\n",
       "        vertical-align: top;\n",
       "    }\n",
       "\n",
       "    .dataframe thead th {\n",
       "        text-align: right;\n",
       "    }\n",
       "</style>\n",
       "<table border=\"1\" class=\"dataframe\">\n",
       "  <thead>\n",
       "    <tr style=\"text-align: right;\">\n",
       "      <th></th>\n",
       "      <th>user_id</th>\n",
       "      <th>city</th>\n",
       "      <th>age</th>\n",
       "      <th>gender</th>\n",
       "      <th>registered_via</th>\n",
       "      <th>weird_age</th>\n",
       "      <th>validate_days</th>\n",
       "      <th>registration_year</th>\n",
       "      <th>registration_month</th>\n",
       "      <th>registration_day</th>\n",
       "      <th>expiration_year</th>\n",
       "      <th>expiration_month</th>\n",
       "      <th>expiration_day</th>\n",
       "    </tr>\n",
       "  </thead>\n",
       "  <tbody>\n",
       "    <tr>\n",
       "      <th>0</th>\n",
       "      <td>28200</td>\n",
       "      <td>1</td>\n",
       "      <td>-0.823033</td>\n",
       "      <td>Unknown</td>\n",
       "      <td>7</td>\n",
       "      <td>0.891258</td>\n",
       "      <td>0.902685</td>\n",
       "      <td>2011</td>\n",
       "      <td>8</td>\n",
       "      <td>20</td>\n",
       "      <td>2017</td>\n",
       "      <td>9</td>\n",
       "      <td>20</td>\n",
       "    </tr>\n",
       "    <tr>\n",
       "      <th>1</th>\n",
       "      <td>4571</td>\n",
       "      <td>1</td>\n",
       "      <td>-0.823033</td>\n",
       "      <td>Unknown</td>\n",
       "      <td>7</td>\n",
       "      <td>0.891258</td>\n",
       "      <td>-0.388179</td>\n",
       "      <td>2015</td>\n",
       "      <td>6</td>\n",
       "      <td>28</td>\n",
       "      <td>2017</td>\n",
       "      <td>6</td>\n",
       "      <td>22</td>\n",
       "    </tr>\n",
       "    <tr>\n",
       "      <th>2</th>\n",
       "      <td>15275</td>\n",
       "      <td>1</td>\n",
       "      <td>-0.823033</td>\n",
       "      <td>Unknown</td>\n",
       "      <td>4</td>\n",
       "      <td>0.891258</td>\n",
       "      <td>-0.619121</td>\n",
       "      <td>2016</td>\n",
       "      <td>4</td>\n",
       "      <td>11</td>\n",
       "      <td>2017</td>\n",
       "      <td>7</td>\n",
       "      <td>12</td>\n",
       "    </tr>\n",
       "    <tr>\n",
       "      <th>3</th>\n",
       "      <td>17563</td>\n",
       "      <td>1</td>\n",
       "      <td>-0.823033</td>\n",
       "      <td>Unknown</td>\n",
       "      <td>9</td>\n",
       "      <td>0.891258</td>\n",
       "      <td>-1.012067</td>\n",
       "      <td>2015</td>\n",
       "      <td>9</td>\n",
       "      <td>6</td>\n",
       "      <td>2015</td>\n",
       "      <td>9</td>\n",
       "      <td>7</td>\n",
       "    </tr>\n",
       "    <tr>\n",
       "      <th>4</th>\n",
       "      <td>7682</td>\n",
       "      <td>1</td>\n",
       "      <td>-0.823033</td>\n",
       "      <td>Unknown</td>\n",
       "      <td>4</td>\n",
       "      <td>0.891258</td>\n",
       "      <td>-0.894011</td>\n",
       "      <td>2017</td>\n",
       "      <td>1</td>\n",
       "      <td>26</td>\n",
       "      <td>2017</td>\n",
       "      <td>6</td>\n",
       "      <td>13</td>\n",
       "    </tr>\n",
       "  </tbody>\n",
       "</table>\n",
       "</div>"
      ],
      "text/plain": [
       "   user_id  city       age   gender  registered_via  weird_age  validate_days  \\\n",
       "0    28200     1 -0.823033  Unknown               7   0.891258       0.902685   \n",
       "1     4571     1 -0.823033  Unknown               7   0.891258      -0.388179   \n",
       "2    15275     1 -0.823033  Unknown               4   0.891258      -0.619121   \n",
       "3    17563     1 -0.823033  Unknown               9   0.891258      -1.012067   \n",
       "4     7682     1 -0.823033  Unknown               4   0.891258      -0.894011   \n",
       "\n",
       "   registration_year  registration_month  registration_day  expiration_year  \\\n",
       "0               2011                   8                20             2017   \n",
       "1               2015                   6                28             2017   \n",
       "2               2016                   4                11             2017   \n",
       "3               2015                   9                 6             2015   \n",
       "4               2017                   1                26             2017   \n",
       "\n",
       "   expiration_month  expiration_day  \n",
       "0                 9              20  \n",
       "1                 6              22  \n",
       "2                 7              12  \n",
       "3                 9               7  \n",
       "4                 6              13  "
      ]
     },
     "execution_count": 35,
     "metadata": {},
     "output_type": "execute_result"
    }
   ],
   "source": [
    "df_members.head()"
   ]
  },
  {
   "cell_type": "code",
   "execution_count": 36,
   "metadata": {},
   "outputs": [
    {
     "data": {
      "text/html": [
       "<div>\n",
       "<style scoped>\n",
       "    .dataframe tbody tr th:only-of-type {\n",
       "        vertical-align: middle;\n",
       "    }\n",
       "\n",
       "    .dataframe tbody tr th {\n",
       "        vertical-align: top;\n",
       "    }\n",
       "\n",
       "    .dataframe thead th {\n",
       "        text-align: right;\n",
       "    }\n",
       "</style>\n",
       "<table border=\"1\" class=\"dataframe\">\n",
       "  <thead>\n",
       "    <tr style=\"text-align: right;\">\n",
       "      <th></th>\n",
       "      <th>user_id</th>\n",
       "      <th>song_id</th>\n",
       "      <th>source_system_tab</th>\n",
       "      <th>source_screen_name</th>\n",
       "      <th>source_type</th>\n",
       "      <th>target</th>\n",
       "      <th>user_interaction_cnt</th>\n",
       "      <th>item_interaction_cnt</th>\n",
       "    </tr>\n",
       "  </thead>\n",
       "  <tbody>\n",
       "    <tr>\n",
       "      <th>0</th>\n",
       "      <td>13362</td>\n",
       "      <td>232041</td>\n",
       "      <td>explore</td>\n",
       "      <td>Explore</td>\n",
       "      <td>online-playlist</td>\n",
       "      <td>1</td>\n",
       "      <td>5511</td>\n",
       "      <td>215</td>\n",
       "    </tr>\n",
       "    <tr>\n",
       "      <th>1</th>\n",
       "      <td>3437</td>\n",
       "      <td>267911</td>\n",
       "      <td>my library</td>\n",
       "      <td>Local playlist more</td>\n",
       "      <td>local-playlist</td>\n",
       "      <td>1</td>\n",
       "      <td>622</td>\n",
       "      <td>1</td>\n",
       "    </tr>\n",
       "    <tr>\n",
       "      <th>2</th>\n",
       "      <td>3437</td>\n",
       "      <td>96294</td>\n",
       "      <td>my library</td>\n",
       "      <td>Local playlist more</td>\n",
       "      <td>local-playlist</td>\n",
       "      <td>1</td>\n",
       "      <td>622</td>\n",
       "      <td>4</td>\n",
       "    </tr>\n",
       "    <tr>\n",
       "      <th>3</th>\n",
       "      <td>3437</td>\n",
       "      <td>38663</td>\n",
       "      <td>my library</td>\n",
       "      <td>Local playlist more</td>\n",
       "      <td>local-playlist</td>\n",
       "      <td>1</td>\n",
       "      <td>622</td>\n",
       "      <td>1</td>\n",
       "    </tr>\n",
       "    <tr>\n",
       "      <th>4</th>\n",
       "      <td>13362</td>\n",
       "      <td>216653</td>\n",
       "      <td>explore</td>\n",
       "      <td>Explore</td>\n",
       "      <td>online-playlist</td>\n",
       "      <td>1</td>\n",
       "      <td>5511</td>\n",
       "      <td>412</td>\n",
       "    </tr>\n",
       "  </tbody>\n",
       "</table>\n",
       "</div>"
      ],
      "text/plain": [
       "   user_id  song_id source_system_tab   source_screen_name      source_type  \\\n",
       "0    13362   232041           explore              Explore  online-playlist   \n",
       "1     3437   267911        my library  Local playlist more   local-playlist   \n",
       "2     3437    96294        my library  Local playlist more   local-playlist   \n",
       "3     3437    38663        my library  Local playlist more   local-playlist   \n",
       "4    13362   216653           explore              Explore  online-playlist   \n",
       "\n",
       "   target  user_interaction_cnt  item_interaction_cnt  \n",
       "0       1                  5511                   215  \n",
       "1       1                   622                     1  \n",
       "2       1                   622                     4  \n",
       "3       1                   622                     1  \n",
       "4       1                  5511                   412  "
      ]
     },
     "execution_count": 36,
     "metadata": {},
     "output_type": "execute_result"
    }
   ],
   "source": [
    "df_train.head()"
   ]
  },
  {
   "cell_type": "code",
   "execution_count": 37,
   "metadata": {},
   "outputs": [
    {
     "name": "stdout",
     "output_type": "stream",
     "text": [
      "[2018-04-24 22:26:19] (start) encode_categorical\n",
      "source_system_tab 9 0 8\n",
      "source_screen_name 20 0 19\n",
      "source_type 13 0 12\n",
      "--------------------\n",
      "genre_ids 573 0 572\n",
      "artist_name 40583 0 40582\n",
      "composer 76064 0 76063\n",
      "lyricist 33888 0 33887\n",
      "language 10 0 9\n",
      "song_year 100 0 99\n",
      "--------------------\n",
      "city 21 0 20\n",
      "gender 3 0 2\n",
      "registered_via 5 0 4\n",
      "registration_year 14 0 13\n",
      "registration_month 12 0 11\n",
      "registration_day 31 0 30\n",
      "expiration_year 18 0 17\n",
      "expiration_month 12 0 11\n",
      "expiration_day 31 0 30\n",
      "--------------------\n",
      "[2018-04-24 22:27:16] ( end ) encode_categorical [time elapsed: 0:00:57]\n"
     ]
    }
   ],
   "source": [
    "sub_timer.start('encode_categorical')\n",
    "encode_categorical(df_train, ['source_system_tab', 'source_screen_name', 'source_type'])\n",
    "encode_categorical(df_songs, ['genre_ids', 'artist_name', 'composer', 'lyricist', 'language', 'song_year'])\n",
    "encode_categorical(df_members, [\n",
    "    'city', 'gender', 'registered_via', \n",
    "    'registration_year', 'registration_month', 'registration_day', \n",
    "    'expiration_year', 'expiration_month', 'expiration_day'\n",
    "])\n",
    "sub_timer.end()"
   ]
  },
  {
   "cell_type": "markdown",
   "metadata": {},
   "source": [
    "## 5.6 save to file"
   ]
  },
  {
   "cell_type": "code",
   "execution_count": 38,
   "metadata": {},
   "outputs": [
    {
     "name": "stdout",
     "output_type": "stream",
     "text": [
      "[2018-04-24 22:27:16] (start) 5.6 save to file\n",
      "[2018-04-24 22:28:03] ( end ) 5.6 save to file [time elapsed: 0:00:48]\n"
     ]
    }
   ],
   "source": [
    "sub_timer.start('5.6 save to file')\n",
    "directory = '../data/context/'\n",
    "if not os.path.exists(directory):\n",
    "    os.makedirs(directory)\n",
    "df_train.to_csv(directory + 'event_context.csv')\n",
    "df_songs.to_csv(directory + 'song_context.csv')\n",
    "df_members.to_csv(directory + 'user_context.csv')\n",
    "sub_timer.end()"
   ]
  },
  {
   "cell_type": "code",
   "execution_count": 39,
   "metadata": {},
   "outputs": [
    {
     "name": "stdout",
     "output_type": "stream",
     "text": [
      "[2018-04-24 22:28:03] ( end ) save context [time elapsed: 0:02:12]\n"
     ]
    }
   ],
   "source": [
    "timer.end()"
   ]
  },
  {
   "cell_type": "code",
   "execution_count": 40,
   "metadata": {},
   "outputs": [],
   "source": [
    "if not os.path.exists('../data/source'):\n",
    "    os.makedirs('../data/source')\n",
    "df_train.to_csv('../data/source/df_train.csv')\n",
    "df_songs.to_csv('../data/source/df_songs.csv')\n",
    "df_members.to_csv('../data/source/df_members.csv')"
   ]
  }
 ],
 "metadata": {
  "kernelspec": {
   "display_name": "Python 3",
   "language": "python",
   "name": "python3"
  },
  "language_info": {
   "codemirror_mode": {
    "name": "ipython",
    "version": 3
   },
   "file_extension": ".py",
   "mimetype": "text/x-python",
   "name": "python",
   "nbconvert_exporter": "python",
   "pygments_lexer": "ipython3",
   "version": "3.6.1"
  }
 },
 "nbformat": 4,
 "nbformat_minor": 2
}
