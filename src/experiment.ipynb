{
 "cells": [
  {
   "cell_type": "markdown",
   "metadata": {},
   "source": [
    "# Model"
   ]
  },
  {
   "cell_type": "code",
   "execution_count": null,
   "metadata": {},
   "outputs": [],
   "source": [
    "from numpy.random import seed\n",
    "seed(41)\n",
    "from tensorflow import set_random_seed\n",
    "set_random_seed(42)\n",
    "\n",
    "from keras.layers import Input, Dense, Embedding, concatenate, dot\n",
    "from keras.models import Model\n",
    "\n",
    "########################\n",
    "## Model\n",
    "########################\n",
    "# Configurations\n",
    "user_pref_dim = 100\n",
    "user_cont_dim = 100\n",
    "item_pref_dim = 100\n",
    "item_cont_dim = 100\n",
    "ACTIVATION = 'relu'\n",
    "\n",
    "# user input, cont for content\n",
    "user_pref = Input(shape=(user_pref_dim, ), dtype='float', name='user_pref')\n",
    "user_cont = Input(shape=(user_cont_dim, ), dtype='float', name='user_cont')\n",
    "# item input\n",
    "item_pref = Input(shape=(item_pref_dim, ), dtype='float', name='item_pref')\n",
    "item_cont = Input(shape=(item_cont_dim, ), dtype='float', name='item_cont')\n",
    "\n",
    "# user_layer\n",
    "user_layer = concatenate([user_pref, user_cont])\n",
    "user_layer = Dense(200, activation=ACTIVATION)(user_layer)\n",
    "user_layer = Dense(100, activation=ACTIVATION)(user_layer)\n",
    "user_layer = Dense(latent_dim, activation=None)(user_layer)\n",
    "\n",
    "# item_layer\n",
    "item_layer = concatenate([item_pref, item_cont])\n",
    "item_layer = Dense(200, activation=ACTIVATION)(item_layer)\n",
    "item_layer = Dense(100, activation=ACTIVATION)(item_layer)\n",
    "item_layer = Dense(latent_dim, activation=None)(item_layer)\n",
    "\n",
    "# output layer\n",
    "output = dot([user_layer, item_layer], axes=1, normalize=False)\n",
    "chrome-extension://ihlenndgcmojhcghmfjfneahoeklbjjh/pages/popup.html#\n",
    "# Model configuration\n",
    "model = Model(inputs=[user_pref, user_cont, item_pref, item_cont],\n",
    "             outputs=output)\n",
    "opt = RMSprop(lr=1e-3)\n",
    "model.compile(loss='binary_crossentropy', optimizer=opt, metrics=['acc'])\n",
    "\n",
    "# fit\n",
    "model.fit(\n",
    "    [user_pref_data, user_cont_data, item_pref_data, item_cont_data],\n",
    "    rating,\n",
    "    epochs=50,\n",
    "    batch_size=64\n",
    ")"
   ]
  },
  {
   "cell_type": "code",
   "execution_count": 1,
   "metadata": {},
   "outputs": [
    {
     "data": {
      "text/plain": [
       "[(1, 2), (2, 3)]"
      ]
     },
     "execution_count": 1,
     "metadata": {},
     "output_type": "execute_result"
    }
   ],
   "source": [
    "x = [1,2,3]\n",
    "list(zip(x[:-1], x[1:]))"
   ]
  },
  {
   "cell_type": "code",
   "execution_count": null,
   "metadata": {},
   "outputs": [],
   "source": [
    "# evaluation"
   ]
  },
  {
   "cell_type": "markdown",
   "metadata": {},
   "source": [
    "# Command Experiments"
   ]
  },
  {
   "cell_type": "markdown",
   "metadata": {},
   "source": [
    "## tf.gather_nd example"
   ]
  },
  {
   "cell_type": "code",
   "execution_count": 12,
   "metadata": {},
   "outputs": [],
   "source": [
    "import numpy as np\n",
    "import tensorflow as tf"
   ]
  },
  {
   "cell_type": "code",
   "execution_count": 16,
   "metadata": {},
   "outputs": [],
   "source": [
    "x = np.reshape(range(25), [5,5])"
   ]
  },
  {
   "cell_type": "code",
   "execution_count": 17,
   "metadata": {},
   "outputs": [
    {
     "data": {
      "text/plain": [
       "array([[ 0,  1,  2,  3,  4],\n",
       "       [ 5,  6,  7,  8,  9],\n",
       "       [10, 11, 12, 13, 14],\n",
       "       [15, 16, 17, 18, 19],\n",
       "       [20, 21, 22, 23, 24]])"
      ]
     },
     "execution_count": 17,
     "metadata": {},
     "output_type": "execute_result"
    }
   ],
   "source": [
    "x"
   ]
  },
  {
   "cell_type": "code",
   "execution_count": 20,
   "metadata": {},
   "outputs": [
    {
     "name": "stdout",
     "output_type": "stream",
     "text": [
      "[[1 2]\n",
      " [2 3]\n",
      " [3 4]]\n"
     ]
    },
    {
     "data": {
      "text/plain": [
       "array([ 7, 13, 19])"
      ]
     },
     "execution_count": 20,
     "metadata": {},
     "output_type": "execute_result"
    }
   ],
   "source": [
    "urand = [1, 2, 3]\n",
    "irand = [2, 3, 4]\n",
    "ui_rand = np.transpose(np.vstack([urand, irand]))\n",
    "print(ui_rand)\n",
    "sess = tf.Session()\n",
    "sess.run(tf.gather_nd(x, ui_rand))"
   ]
  },
  {
   "cell_type": "markdown",
   "metadata": {},
   "source": [
    "## small things"
   ]
  },
  {
   "cell_type": "code",
   "execution_count": 22,
   "metadata": {},
   "outputs": [
    {
     "ename": "NameError",
     "evalue": "name 'xrange' is not defined",
     "output_type": "error",
     "traceback": [
      "\u001b[1;31m---------------------------------------------------------------------------\u001b[0m",
      "\u001b[1;31mNameError\u001b[0m                                 Traceback (most recent call last)",
      "\u001b[1;32m<ipython-input-22-57a23109d110>\u001b[0m in \u001b[0;36m<module>\u001b[1;34m()\u001b[0m\n\u001b[1;32m----> 1\u001b[1;33m \u001b[0mxrange\u001b[0m\u001b[1;33m(\u001b[0m\u001b[1;36m10\u001b[0m\u001b[1;33m)\u001b[0m\u001b[1;33m\u001b[0m\u001b[0m\n\u001b[0m",
      "\u001b[1;31mNameError\u001b[0m: name 'xrange' is not defined"
     ]
    }
   ],
   "source": []
  },
  {
   "cell_type": "code",
   "execution_count": null,
   "metadata": {},
   "outputs": [],
   "source": []
  }
 ],
 "metadata": {
  "kernelspec": {
   "display_name": "Python 3",
   "language": "python",
   "name": "python3"
  },
  "language_info": {
   "codemirror_mode": {
    "name": "ipython",
    "version": 3
   },
   "file_extension": ".py",
   "mimetype": "text/x-python",
   "name": "python",
   "nbconvert_exporter": "python",
   "pygments_lexer": "ipython3",
   "version": "3.6.1"
  }
 },
 "nbformat": 4,
 "nbformat_minor": 2
}
